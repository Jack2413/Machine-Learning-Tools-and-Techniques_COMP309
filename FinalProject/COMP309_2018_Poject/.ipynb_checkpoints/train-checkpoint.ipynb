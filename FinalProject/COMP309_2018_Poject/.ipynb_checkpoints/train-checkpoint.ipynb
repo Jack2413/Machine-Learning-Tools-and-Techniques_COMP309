{
 "cells": [
  {
   "cell_type": "code",
   "execution_count": 1,
   "metadata": {
    "colab": {},
    "colab_type": "code",
    "id": "qtsenaUnMeE3"
   },
   "outputs": [],
   "source": [
    "%matplotlib inline"
   ]
  },
  {
   "cell_type": "code",
   "execution_count": 2,
   "metadata": {
    "colab": {},
    "colab_type": "code",
    "id": "u2Zbo55dPVpM"
   },
   "outputs": [
    {
     "name": "stderr",
     "output_type": "stream",
     "text": [
      "/Users/jackgan/anaconda3/lib/python3.6/site-packages/h5py/__init__.py:36: FutureWarning: Conversion of the second argument of issubdtype from `float` to `np.floating` is deprecated. In future, it will be treated as `np.float64 == np.dtype(float).type`.\n",
      "  from ._conv import register_converters as _register_converters\n"
     ]
    }
   ],
   "source": [
    "#input tensorflow and keras\n",
    "import tensorflow as tf\n",
    "from tensorflow.keras.datasets import mnist\n",
    "from tensorflow.keras.models import Sequential\n",
    "from tensorflow.keras.layers import Dense, Dropout, Flatten, Activation\n",
    "from tensorflow.keras.layers import Conv2D, MaxPooling2D, Convolution2D\n",
    "from tensorflow.keras import backend as K\n",
    "from tensorflow.keras.preprocessing.image import ImageDataGenerator,img_to_array\n",
    "from tensorflow.keras.optimizers import SGD, Adam, RMSprop\n",
    "from tensorflow.keras.metrics import categorical_accuracy\n",
    "from tensorflow.keras import regularizers\n",
    "\n",
    "import numpy as np\n",
    "import random\n",
    "import tensorflow as tf\n",
    "\n",
    "import matplotlib\n",
    "import matplotlib.pyplot as plt\n",
    "\n",
    "import numpy as np\n",
    "import random\n",
    "\n",
    "#Online code\n",
    "# from google.colab import drive\n",
    "# drive.mount('/content/drive')\n"
   ]
  },
  {
   "cell_type": "code",
   "execution_count": 3,
   "metadata": {
    "colab": {},
    "colab_type": "code",
    "id": "EGaRSMZNPaNM"
   },
   "outputs": [],
   "source": [
    "#Set seed\n",
    "seed = 1990\n",
    "random.seed(seed)\n",
    "np.random.seed(seed)\n",
    "tf.set_random_seed(seed)"
   ]
  },
  {
   "cell_type": "code",
   "execution_count": 4,
   "metadata": {
    "colab": {},
    "colab_type": "code",
    "id": "pDw0qP7gf9T3"
   },
   "outputs": [],
   "source": [
    "#Set path\n",
    "\n",
    "#online\n",
    "data_path = 'Train_data'\n",
    "#data_path = \"drive/My Drive/Colab Notebooks/small_Train_data\"\n",
    "\n",
    "#local\n",
    "#data_path = \"Desktop/vu/2018 T2/COMP309/COMP309_2018_Project/Train_data\"\n",
    "#data_path = \"Desktop/vu/2018 T2/COMP309/COMP309_2018_Project/small_Train_data\"\n"
   ]
  },
  {
   "cell_type": "code",
   "execution_count": 5,
   "metadata": {
    "colab": {},
    "colab_type": "code",
    "id": "UcGxqGnuFVPy"
   },
   "outputs": [
    {
     "name": "stdout",
     "output_type": "stream",
     "text": [
      "Found 12 images belonging to 3 classes.\n",
      "Found 3 images belonging to 3 classes.\n"
     ]
    }
   ],
   "source": [
    "#load data\n",
    "\n",
    "#build the generator\n",
    "# data preprocessing\n",
    "train_datagen = ImageDataGenerator(\n",
    "    \n",
    "    rotation_range=40,\n",
    "    width_shift_range=0.2,\n",
    "    height_shift_range=0.2,\n",
    "    rescale = 1./255, \n",
    "    validation_split=1/4,\n",
    "    horizontal_flip=True,\n",
    "    fill_mode='nearest',\n",
    "    shear_range=0.2,\n",
    "    zoom_range=0.2,\n",
    "\n",
    ")\n",
    "\n",
    "#normal genrator\n",
    "datagen = ImageDataGenerator(\n",
    "    rescale = 1./255, \n",
    "    validation_split=1/4,\n",
    "    \n",
    ")\n",
    "\n",
    "#Set batch size\n",
    "batch_size=30\n",
    "\n",
    "\n",
    "train_data = train_datagen.flow_from_directory(\n",
    "    data_path,  \n",
    "    target_size=(300, 300), \n",
    "    subset='training',\n",
    "    batch_size=batch_size\n",
    ")\n",
    "\n",
    "validation_data = train_datagen.flow_from_directory(\n",
    "    data_path, \n",
    "    target_size=(300, 300), \n",
    "    subset='validation',\n",
    "    batch_size=batch_size\n",
    ")\n",
    "\n",
    "# train_size = train_data[0][0].shape[0]*len(train_data)\n",
    "# validation_size = validation_data[0][0].shape[0]*len(validation_data)\n",
    "# validation_size"
   ]
  },
  {
   "cell_type": "code",
   "execution_count": 6,
   "metadata": {
    "colab": {},
    "colab_type": "code",
    "id": "Axkn72-0AW66"
   },
   "outputs": [],
   "source": [
    "#Set GPU allow growth\n",
    "config = tf.ConfigProto()\n",
    "config.gpu_options.allow_growth = True"
   ]
  },
  {
   "cell_type": "code",
   "execution_count": 7,
   "metadata": {
    "colab": {},
    "colab_type": "code",
    "id": "ykH6HTRp_0Lr"
   },
   "outputs": [],
   "source": [
    "# #basic model\n",
    "# model = Sequential()\n",
    "# model.add(Flatten(input_shape=(300,300,3)))\n",
    "# model.add(Dense(256, activation='relu'))\n",
    "# #model.add(Dropout(0.25))\n",
    "# model.add(Dense(256, activation='relu'))\n",
    "# #model.add(Dropout(0.25))\n",
    "# model.add(Dense(3, activation='softmax'))\n",
    "# #model.summary()\n"
   ]
  },
  {
   "cell_type": "code",
   "execution_count": 8,
   "metadata": {
    "colab": {},
    "colab_type": "code",
    "id": "cxAKG29s_0XQ"
   },
   "outputs": [],
   "source": [
    "# # Attempt VCG\n",
    "# # input: 300x300 images with 3 channels -> (300, 300, 3) tensors.\n",
    "# # this applies 32 convolution filters of size 3x3 each.\n",
    "# model.add(Conv2D(32, (3, 3), activation='relu',input_shape=(300,300,3)))\n",
    "# model.add(MaxPooling2D(pool_size=(2, 2)))\n",
    "# model.add(Conv2D(32, (3, 3), activation='relu'))\n",
    "# model.add(MaxPooling2D(pool_size=(2, 2)))\n",
    "#model.add(Dropout(0.25))\n",
    "\n",
    "# model.add(Conv2D(64, (3, 3), activation='relu'))\n",
    "# model.add(MaxPooling2D(pool_size=(2, 2)))\n",
    "# model.add(Conv2D(64, (3, 3), activation='relu'))\n",
    "# model.add(MaxPooling2D(pool_size=(2, 2)))\n",
    "#model.add(Dropout(0.25))\n",
    "\n",
    "# model.add(Conv2D(128, (3, 3), activation='relu'))\n",
    "# model.add(MaxPooling2D(pool_size=(2, 2)))\n",
    "# model.add(Conv2D(128, (3, 3), activation='relu'))\n",
    "# model.add(MaxPooling2D(pool_size=(2, 2)))\n",
    "# model.add(Dropout(0.25))\n",
    "\n",
    "# model.add(Conv2D(256, (3, 3), activation='relu'))\n",
    "# model.add(MaxPooling2D(pool_size=(2, 2)))\n",
    "# model.add(Conv2D(256, (3, 3), activation='relu'))\n",
    "# model.add(MaxPooling2D(pool_size=(2, 2)))\n",
    "#model.add(Dropout(0.25))\n",
    "\n",
    "# model.add(Conv2D(512, (3, 3), activation='relu'))\n",
    "# model.add(Conv2D(512, (3, 3), activation='relu'))\n",
    "# model.add(MaxPooling2D(pool_size=(2, 2)))\n",
    "#model.add(Dropout(0.25))\n",
    "\n",
    "# model.add(Conv2D(512, (3, 3), activation='relu'))\n",
    "# model.add(Conv2D(512, (3, 3), activation='relu'))\n",
    "# model.add(MaxPooling2D(pool_size=(2, 2)))\n",
    "# #model.add(Dropout(0.25))"
   ]
  },
  {
   "cell_type": "code",
   "execution_count": 9,
   "metadata": {
    "colab": {},
    "colab_type": "code",
    "id": "U8FKP-cGhSH-"
   },
   "outputs": [],
   "source": [
    "#input keras applications\n",
    "from tensorflow.keras.applications import VGG16#, InceptionResNetV2\n",
    "vgg16 = VGG16(include_top=False,input_shape=(300, 300, 3),classes=3)\n",
    "#ICRNV2 = InceptionResNetV2(include_top=False,input_shape=(300, 300, 3), classes=3)\n",
    "\n",
    "#Build the model (VCG-16)\n",
    "model = Sequential()\n",
    "for layer in vgg16.layers:\n",
    "  model.add(layer)\n",
    "\n",
    "\n",
    "\n",
    "\n",
    "\n"
   ]
  },
  {
   "cell_type": "code",
   "execution_count": 10,
   "metadata": {
    "colab": {},
    "colab_type": "code",
    "id": "rl7GT6z2Ce14"
   },
   "outputs": [],
   "source": [
    "#add flatten layer\n",
    "model.add(Flatten())\n",
    "model.add(Dense(256, activation='relu',kernel_regularizer = regularizers.l2(0.001 )))\n",
    "#model.add(Dropout(0.25))\n",
    "model.add(Dense(256, activation='relu',kernel_regularizer = regularizers.l2(0.001 )))\n",
    "#model.add(Dropout(0.25))\n",
    "model.add(Dense(3, activation='softmax',activity_regularizer=regularizers.l1(0.001)))\n",
    "#model.summary()\n"
   ]
  },
  {
   "cell_type": "code",
   "execution_count": 11,
   "metadata": {
    "colab": {},
    "colab_type": "code",
    "id": "WY-gpbaj_Od9"
   },
   "outputs": [],
   "source": [
    "#Set optimizer\n",
    "sgd = SGD(lr=0.001, decay=1e-6, momentum=0.9, nesterov=True)\n",
    "rmsprop = RMSprop(lr=1e-4, rho=0.9, epsilon=None, decay=0.0)\n",
    "adam = Adam(lr=1e-5, beta_1=0.9, beta_2=0.999, epsilon=None, decay=0, amsgrad=True)\n",
    "\n",
    "#model compile\n",
    "model.compile(loss='categorical_crossentropy', optimizer=adam, metrics=[categorical_accuracy])\n"
   ]
  },
  {
   "cell_type": "code",
   "execution_count": 12,
   "metadata": {
    "colab": {},
    "colab_type": "code",
    "id": "uszEosQB_Xlp"
   },
   "outputs": [],
   "source": [
    "#Call back\n",
    "from tensorflow.keras.callbacks import TensorBoard\n",
    "from tensorflow.keras.callbacks import ModelCheckpoint\n",
    "from tensorflow.keras.callbacks import EarlyStopping\n",
    "\n",
    "tbCallBack = TensorBoard(log_dir='log',histogram_freq=0,write_graph=True,write_images=False)\n",
    "checkpoint = ModelCheckpoint(filepath='models/best_weights.hdf5',save_best_only='True',monitor='val_loss')\n",
    "earlyStop = EarlyStopping(monitor='val_loss', min_delta=0, patience=5, verbose=0, mode='auto')\n"
   ]
  },
  {
   "cell_type": "code",
   "execution_count": null,
   "metadata": {
    "colab": {},
    "colab_type": "code",
    "id": "_1xN-KC5_dr7"
   },
   "outputs": [
    {
     "name": "stdout",
     "output_type": "stream",
     "text": [
      "Epoch 1/50\n",
      "1/1 [==============================] - 56s 56s/step - loss: 2.0604 - categorical_accuracy: 0.3333 - val_loss: 2.0742 - val_categorical_accuracy: 0.3333\n",
      "Epoch 2/50\n"
     ]
    }
   ],
   "source": [
    "#Start training fit the model\n",
    "model.fit_generator(\n",
    "    \n",
    "        train_data,\n",
    "        steps_per_epoch=len(train_data),\n",
    "        verbose=1, \n",
    "        epochs=50,\n",
    "        validation_data=validation_data,\n",
    "        validation_steps=len(validation_data),\n",
    "        callbacks=[tbCallBack,checkpoint] #<-- add earlyStop to get the best model from call back\n",
    ") \n",
    "\n"
   ]
  },
  {
   "cell_type": "code",
   "execution_count": null,
   "metadata": {
    "colab": {},
    "colab_type": "code",
    "id": "uIipeHu5hdpY"
   },
   "outputs": [],
   "source": [
    "#Evaluate\n",
    "model.load_weights('models/best_weights.hdf5')\n",
    "loss_and_metrics =model.evaluate_generator(validation_data,len(validation_data))\n",
    "print('Test loss:{}\\nTest accuracy:{}'.format(loss_and_metrics[0], loss_and_metrics[1]))"
   ]
  },
  {
   "cell_type": "code",
   "execution_count": null,
   "metadata": {
    "colab": {},
    "colab_type": "code",
    "id": "dC6sjKKzhiUo"
   },
   "outputs": [],
   "source": [
    "#save model\n",
    "import shutil\n",
    "model.call\n",
    "model.save('models/VGG16_sgd_prepor_FULL_loss 0.5362')\n"
   ]
  },
  {
   "cell_type": "code",
   "execution_count": null,
   "metadata": {
    "colab": {},
    "colab_type": "code",
    "id": "20ZiwKMuXQ8w"
   },
   "outputs": [],
   "source": [
    "#Test model\n",
    "data_path = \"Test_data\"\n",
    "model_path = 'models/best_weights.hdf5'\n",
    "\n",
    "test_datagen = ImageDataGenerator(\n",
    "    \n",
    "    rotation_range=40,\n",
    "    width_shift_range=0.2,\n",
    "    height_shift_range=0.2,\n",
    "    rescale = 1./255, \n",
    "    horizontal_flip=True,\n",
    "    fill_mode='nearest',\n",
    "    shear_range=0.2,\n",
    "    zoom_range=0.2\n",
    "\n",
    ")\n",
    "\n",
    "test_data = test_datagen.flow_from_directory(\n",
    "    data_path,\n",
    "    target_size=(300, 300), \n",
    "    batch_size=30\n",
    ")\n",
    "\n",
    "loss_and_metrics =model.evaluate_generator(test_data,steps=len(test_data))\n",
    "print('Test loss:{}\\nTest accuracy:{}'.format(loss_and_metrics[0], loss_and_metrics[1]))"
   ]
  }
 ],
 "metadata": {
  "accelerator": "GPU",
  "colab": {
   "collapsed_sections": [],
   "name": "COMP309_final_project1.ipynb",
   "private_outputs": true,
   "provenance": [],
   "toc_visible": true,
   "version": "0.3.2"
  },
  "kernelspec": {
   "display_name": "Python 3",
   "language": "python",
   "name": "python3"
  },
  "language_info": {
   "codemirror_mode": {
    "name": "ipython",
    "version": 3
   },
   "file_extension": ".py",
   "mimetype": "text/x-python",
   "name": "python",
   "nbconvert_exporter": "python",
   "pygments_lexer": "ipython3",
   "version": "3.6.5"
  }
 },
 "nbformat": 4,
 "nbformat_minor": 1
}
